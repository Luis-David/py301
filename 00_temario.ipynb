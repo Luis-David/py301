{
 "cells": [
  {
   "cell_type": "markdown",
   "metadata": {},
   "source": [
    "[![imagenes](imagenes/pythonista.png)](https://pythonista.io)"
   ]
  },
  {
   "cell_type": "markdown",
   "metadata": {},
   "source": [
    " 1. Introducción\n",
    " * Funciones para el manejo de flujos de datos\n",
    " * Introducción al tratamiento de datos\n",
    " * Caso de uso: control de asistencia\n",
    " * Tipos de datos de Numpy\n",
    " * Creación de arreglos de Numpy\n",
    " * Acceso a los elementos de los arreglos de Numpy \n",
    " * Métodos y funciones para arreglos de Numpy\n",
    " * Álgebra lineal con Numpy\n",
    " * Gráficas básicas con Matplotlib\n",
    " * Tratamiento de imágenes con Matplotlib\n",
    " * Introducción a Pandas\n",
    " * Matemáticas simbólicas con Sympy\n",
    " * Introducción a los proyectos Scikit\n",
    " * Caso de uso: analisis de tuits"
   ]
  },
  {
   "cell_type": "markdown",
   "metadata": {},
   "source": [
    "<p style=\"text-align: center\"><a rel=\"license\" href=\"http://creativecommons.org/licenses/by/4.0/\"><img alt=\"Licencia Creative Commons\" style=\"border-width:0\" src=\"https://i.creativecommons.org/l/by/4.0/80x15.png\" /></a><br />Esta obra está bajo una <a rel=\"license\" href=\"http://creativecommons.org/licenses/by/4.0/\">Licencia Creative Commons Atribución 4.0 Internacional</a>.</p>\n",
    "<p style=\"text-align: center\">&copy; José Luis Chiquete Valdivieso. 2018.</p>"
   ]
  }
 ],
 "metadata": {
  "kernelspec": {
   "display_name": "Python 3",
   "language": "python",
   "name": "python3"
  },
  "language_info": {
   "codemirror_mode": {
    "name": "ipython",
    "version": 3
   },
   "file_extension": ".py",
   "mimetype": "text/x-python",
   "name": "python",
   "nbconvert_exporter": "python",
   "pygments_lexer": "ipython3",
   "version": "3.6.3"
  }
 },
 "nbformat": 4,
 "nbformat_minor": 2
}

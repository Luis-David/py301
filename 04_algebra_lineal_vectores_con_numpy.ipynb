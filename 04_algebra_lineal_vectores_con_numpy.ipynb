{
 "cells": [
  {
   "cell_type": "markdown",
   "metadata": {},
   "source": [
    "[![imagenes](imagenes/pythonista.png)](https://pythonista.io)"
   ]
  },
  {
   "cell_type": "markdown",
   "metadata": {},
   "source": [
    "## Rebanado de elementos en un arreglo de Numpy.\n",
    "\n",
    "El rebanado de arreglos es muy similar al rebanado de objetos tipo *tuple* o *list* y se utilizan los dos puntos (*:*) para indicar un rango de elementos para cada dimensión, las dimensiones están separadas por comas:"
   ]
  },
  {
   "cell_type": "markdown",
   "metadata": {},
   "source": [
    "**Ejemplo:**\n",
    "\n",
    "Para realizar una obra de construcción se organizan dos frentes a los que se les asigna una brigada formada por 3 oficiales.\n",
    "El siguiente arreglo indica la organización de las brigadas durante una semana de 5 días consecutivos empezando desde el lunes. \n",
    "Este arreglo es de 3 dimensiones de tamaño (5,2,3)."
   ]
  },
  {
   "cell_type": "code",
   "execution_count": null,
   "metadata": {},
   "outputs": [],
   "source": [
    "import numpy as np"
   ]
  },
  {
   "cell_type": "code",
   "execution_count": null,
   "metadata": {},
   "outputs": [],
   "source": [
    "brigadas = np.array([[['Juan', 'Antonio', 'Ricardo'], ['Alonso', 'Jorge', 'Salvador']],\n",
    "                    [['David', 'Julian', 'Ricardo'], ['Arturo', 'Ramiro', 'Esteban']],\n",
    "                    [['Arturo', 'Ricardo', 'Lucio'], ['Jorge', 'Marco', 'Juan']],\n",
    "                    [['Alonso', 'Julian', 'Salvador'], ['Ricardo', 'Jorge', 'Esteban']],\n",
    "                    [['Lucio', 'Ramiro', 'Joaquín'], ['Ricardo', 'Marco', 'Juan']]])"
   ]
  },
  {
   "cell_type": "code",
   "execution_count": null,
   "metadata": {
    "scrolled": true
   },
   "outputs": [],
   "source": [
    "brigadas"
   ]
  },
  {
   "cell_type": "markdown",
   "metadata": {},
   "source": [
    "Para conocer qué brigadas se formaron el martes y miércoles se hace lo siguiente:"
   ]
  },
  {
   "cell_type": "code",
   "execution_count": null,
   "metadata": {
    "scrolled": true
   },
   "outputs": [],
   "source": [
    "brigadas[1:3,:,:]"
   ]
  },
  {
   "cell_type": "markdown",
   "metadata": {},
   "source": [
    "Para conocer cómo estaba formada la brigada en el segundo frente durantew los días martes y miércoles se hace lo siguiente."
   ]
  },
  {
   "cell_type": "code",
   "execution_count": null,
   "metadata": {},
   "outputs": [],
   "source": [
    "brigadas[1:3,1,:]"
   ]
  },
  {
   "cell_type": "code",
   "execution_count": null,
   "metadata": {},
   "outputs": [],
   "source": [
    "brigadas[1:3,1]"
   ]
  },
  {
   "cell_type": "code",
   "execution_count": null,
   "metadata": {},
   "outputs": [],
   "source": [
    "brigadas[:,1]"
   ]
  },
  {
   "cell_type": "markdown",
   "metadata": {},
   "source": [
    "## Modificación de los elementos de un arreglo.\n",
    "Para modificar un elemento se utiliza el índice y el poerado de asignación (*=*)."
   ]
  },
  {
   "cell_type": "markdown",
   "metadata": {},
   "source": [
    "**Ejemplos:**\n",
    "\n",
    "Para modificar las 2 brigadas del viernes se hace lo siguiente:"
   ]
  },
  {
   "cell_type": "code",
   "execution_count": null,
   "metadata": {},
   "outputs": [],
   "source": [
    "brigadas[4] = [['Ramiro', 'Arturo', 'Mario'], ['Julian', 'Juan', 'Ricardo']]"
   ]
  },
  {
   "cell_type": "code",
   "execution_count": null,
   "metadata": {},
   "outputs": [],
   "source": [
    "brigadas"
   ]
  },
  {
   "cell_type": "markdown",
   "metadata": {},
   "source": [
    "Para modificar a la segunda brigada del martes se realiza:"
   ]
  },
  {
   "cell_type": "code",
   "execution_count": null,
   "metadata": {},
   "outputs": [],
   "source": [
    "brigadas[1,1] = ['Lucio', 'Joaquín', 'Marco']"
   ]
  },
  {
   "cell_type": "code",
   "execution_count": null,
   "metadata": {},
   "outputs": [],
   "source": [
    "brigadas"
   ]
  },
  {
   "cell_type": "markdown",
   "metadata": {},
   "source": [
    "Para modificar a los primeros 2 oficiales de la primera brigada del miércoles se realiza:"
   ]
  },
  {
   "cell_type": "code",
   "execution_count": null,
   "metadata": {},
   "outputs": [],
   "source": [
    "brigadas[2,0,0:2] = ['Esteban', 'Salvador']"
   ]
  },
  {
   "cell_type": "code",
   "execution_count": null,
   "metadata": {},
   "outputs": [],
   "source": [
    "brigadas"
   ]
  },
  {
   "cell_type": "markdown",
   "metadata": {},
   "source": [
    "### Indexado de elemetos."
   ]
  },
  {
   "cell_type": "raw",
   "metadata": {},
   "source": []
  },
  {
   "cell_type": "code",
   "execution_count": null,
   "metadata": {},
   "outputs": [],
   "source": [
    "brigadas = np.array([[['Juan', 'Antonio', 'Ricardo'], ['Alonso', 'Jorge', 'Salvador']],\n",
    "                    [['David', 'Julian', 'Ricardo'], ['Arturo', 'Ramiro', 'Esteban']],\n",
    "                    [['Arturo', 'Ricardo', 'Lucio'], ['Jorge', 'Marco', 'Juan']],\n",
    "                    [['Alonso', 'Julian', 'Salvador'], ['Ricardo', 'Jorge', 'Esteban']],\n",
    "                    [['Lucio', 'Ramiro', 'Joaquín'], ['Ricardo', 'Marco', 'Juan']]])"
   ]
  },
  {
   "cell_type": "code",
   "execution_count": null,
   "metadata": {},
   "outputs": [],
   "source": [
    "brigadas[brigadas == \"Juan\"]"
   ]
  },
  {
   "cell_type": "code",
   "execution_count": null,
   "metadata": {},
   "outputs": [],
   "source": [
    "brigadas[1][brigadas[1] != \"Juan\"]"
   ]
  },
  {
   "cell_type": "code",
   "execution_count": null,
   "metadata": {},
   "outputs": [],
   "source": [
    "brigadas[1][brigadas[1] == \"Juan\"]"
   ]
  },
  {
   "cell_type": "markdown",
   "metadata": {},
   "source": [
    "<p style=\"text-align: center\"><a rel=\"license\" href=\"http://creativecommons.org/licenses/by/4.0/\"><img alt=\"Licencia Creative Commons\" style=\"border-width:0\" src=\"https://i.creativecommons.org/l/by/4.0/80x15.png\" /></a><br />Esta obra está bajo una <a rel=\"license\" href=\"http://creativecommons.org/licenses/by/4.0/\">Licencia Creative Commons Atribución 4.0 Internacional</a>.</p>\n",
    "<p style=\"text-align: center\">&copy; José Luis Chiquete Valdivieso. 2018.</p>"
   ]
  }
 ],
 "metadata": {
  "kernelspec": {
   "display_name": "Python 3",
   "language": "python",
   "name": "python3"
  },
  "language_info": {
   "codemirror_mode": {
    "name": "ipython",
    "version": 3
   },
   "file_extension": ".py",
   "mimetype": "text/x-python",
   "name": "python",
   "nbconvert_exporter": "python",
   "pygments_lexer": "ipython3",
   "version": "3.6.3"
  }
 },
 "nbformat": 4,
 "nbformat_minor": 2
}

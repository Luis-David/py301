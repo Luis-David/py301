{
 "cells": [
  {
   "cell_type": "markdown",
   "metadata": {},
   "source": [
    "[![imagenes/pythonista.png](imagenes/pythonista.png)](https://pythonista.io)"
   ]
  },
  {
   "cell_type": "code",
   "execution_count": 1,
   "metadata": {},
   "outputs": [
    {
     "name": "stdout",
     "output_type": "stream",
     "text": [
      "Requirement already satisfied: matplotlib in /home/oi/pythonista/lib/python3.6/site-packages (2.2.3)\n",
      "Requirement already satisfied: imageio in /home/oi/pythonista/lib/python3.6/site-packages (2.3.0)\n",
      "Requirement already satisfied: scikit-image in /home/oi/pythonista/lib/python3.6/site-packages (0.14.0)\n",
      "Requirement already satisfied: kiwisolver>=1.0.1 in /home/oi/pythonista/lib/python3.6/site-packages (from matplotlib) (1.0.1)\n",
      "Requirement already satisfied: pytz in /home/oi/pythonista/lib/python3.6/site-packages (from matplotlib) (2018.5)\n",
      "Requirement already satisfied: six>=1.10 in /home/oi/pythonista/lib/python3.6/site-packages (from matplotlib) (1.11.0)\n",
      "Requirement already satisfied: pyparsing!=2.0.4,!=2.1.2,!=2.1.6,>=2.0.1 in /home/oi/pythonista/lib/python3.6/site-packages (from matplotlib) (2.2.0)\n",
      "Requirement already satisfied: numpy>=1.7.1 in /home/oi/pythonista/lib/python3.6/site-packages (from matplotlib) (1.15.0)\n",
      "Requirement already satisfied: cycler>=0.10 in /home/oi/pythonista/lib/python3.6/site-packages (from matplotlib) (0.10.0)\n",
      "Requirement already satisfied: python-dateutil>=2.1 in /home/oi/pythonista/lib/python3.6/site-packages (from matplotlib) (2.7.3)\n",
      "Requirement already satisfied: pillow in /home/oi/pythonista/lib/python3.6/site-packages (from imageio) (5.2.0)\n",
      "Requirement already satisfied: scipy>=0.17.0 in /home/oi/pythonista/lib/python3.6/site-packages (from scikit-image) (1.1.0)\n",
      "Requirement already satisfied: networkx>=1.8 in /home/oi/pythonista/lib/python3.6/site-packages (from scikit-image) (2.1)\n",
      "Requirement already satisfied: cloudpickle>=0.2.1 in /home/oi/pythonista/lib/python3.6/site-packages (from scikit-image) (0.5.5)\n",
      "Requirement already satisfied: PyWavelets>=0.4.0 in /home/oi/pythonista/lib/python3.6/site-packages (from scikit-image) (0.5.2)\n",
      "Requirement already satisfied: dask[array]>=0.9.0 in /home/oi/pythonista/lib/python3.6/site-packages (from scikit-image) (0.18.2)\n",
      "Requirement already satisfied: setuptools in /home/oi/pythonista/lib/python3.6/site-packages (from kiwisolver>=1.0.1->matplotlib) (40.0.0)\n",
      "Requirement already satisfied: decorator>=4.1.0 in /home/oi/pythonista/lib/python3.6/site-packages (from networkx>=1.8->scikit-image) (4.3.0)\n",
      "Requirement already satisfied: toolz>=0.7.3; extra == \"array\" in /home/oi/pythonista/lib/python3.6/site-packages (from dask[array]>=0.9.0->scikit-image) (0.9.0)\n"
     ]
    }
   ],
   "source": [
    "! pip install matplotlib imageio scikit-image"
   ]
  },
  {
   "cell_type": "code",
   "execution_count": 2,
   "metadata": {},
   "outputs": [],
   "source": [
    "import numpy as np\n",
    "import matplotlib.pyplot as plt\n",
    "import skimage\n",
    "import imageio\n",
    "import skimage.filters as skif\n",
    "import skimage.util as util"
   ]
  },
  {
   "cell_type": "code",
   "execution_count": 3,
   "metadata": {},
   "outputs": [],
   "source": [
    "imagen = imageio.imread('imagenes/perrita.jpg')"
   ]
  },
  {
   "cell_type": "code",
   "execution_count": null,
   "metadata": {},
   "outputs": [],
   "source": [
    "type(imagen)"
   ]
  },
  {
   "cell_type": "code",
   "execution_count": null,
   "metadata": {},
   "outputs": [],
   "source": [
    "print(imagen)"
   ]
  },
  {
   "cell_type": "code",
   "execution_count": null,
   "metadata": {},
   "outputs": [],
   "source": [
    "imagen.size"
   ]
  },
  {
   "cell_type": "code",
   "execution_count": null,
   "metadata": {},
   "outputs": [],
   "source": [
    "imagen.shape"
   ]
  },
  {
   "cell_type": "code",
   "execution_count": null,
   "metadata": {},
   "outputs": [],
   "source": [
    "def muestra(img):\n",
    "    plt.imshow(img)\n",
    "    plt.axis('off')\n",
    "    plt.style.use('grayscale')\n",
    "    plt.show()"
   ]
  },
  {
   "cell_type": "code",
   "execution_count": null,
   "metadata": {},
   "outputs": [],
   "source": [
    "muestra(imagen)"
   ]
  },
  {
   "cell_type": "code",
   "execution_count": null,
   "metadata": {},
   "outputs": [],
   "source": [
    "medios = imagen.mean(2)"
   ]
  },
  {
   "cell_type": "code",
   "execution_count": null,
   "metadata": {},
   "outputs": [],
   "source": [
    "help(imagen.mean)"
   ]
  },
  {
   "cell_type": "code",
   "execution_count": null,
   "metadata": {},
   "outputs": [],
   "source": [
    "muestra(medios)"
   ]
  },
  {
   "cell_type": "code",
   "execution_count": null,
   "metadata": {},
   "outputs": [],
   "source": [
    "muestra(skif.gaussian(medios, 2))"
   ]
  },
  {
   "cell_type": "code",
   "execution_count": null,
   "metadata": {},
   "outputs": [],
   "source": [
    "muestra(util.invert(skif.edges.prewitt(medios)))"
   ]
  },
  {
   "cell_type": "code",
   "execution_count": null,
   "metadata": {},
   "outputs": [],
   "source": [
    "muestra(util.invert(skif.edges.roberts(medios)))"
   ]
  },
  {
   "cell_type": "code",
   "execution_count": null,
   "metadata": {},
   "outputs": [],
   "source": [
    "muestra((skif.edges.laplace(medios)))"
   ]
  },
  {
   "cell_type": "markdown",
   "metadata": {},
   "source": [
    "<p style=\"text-align: center\"><a rel=\"license\" href=\"http://creativecommons.org/licenses/by/4.0/\"><img alt=\"Licencia Creative Commons\" style=\"border-width:0\" src=\"https://i.creativecommons.org/l/by/4.0/80x15.png\" /></a><br />Esta obra está bajo una <a rel=\"license\" href=\"http://creativecommons.org/licenses/by/4.0/\">Licencia Creative Commons Atribución 4.0 Internacional</a>.</p>\n",
    "<p style=\"text-align: center\">&copy; José Luis Chiquete Valdivieso. 2018.</p>"
   ]
  }
 ],
 "metadata": {
  "kernelspec": {
   "display_name": "Python 3",
   "language": "python",
   "name": "python3"
  },
  "language_info": {
   "codemirror_mode": {
    "name": "ipython",
    "version": 3
   },
   "file_extension": ".py",
   "mimetype": "text/x-python",
   "name": "python",
   "nbconvert_exporter": "python",
   "pygments_lexer": "ipython3",
   "version": "3.6.3"
  }
 },
 "nbformat": 4,
 "nbformat_minor": 2
}
